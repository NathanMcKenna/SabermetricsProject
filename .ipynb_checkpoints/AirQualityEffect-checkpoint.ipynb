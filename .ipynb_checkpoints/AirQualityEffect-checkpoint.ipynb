{
 "cells": [
  {
   "cell_type": "markdown",
   "metadata": {},
   "source": [
    "# Sabermetrics: The Air Quality Factor\n",
    "\n",
    "In this Jupyter notebook I will explore the relationship between baseball performance and atmospheric air quality. The first step in this project is to import the multiple data sets with the goal of building a shared data frame so that the data can be easily compared using Pandas.\n"
   ]
  },
  {
   "cell_type": "code",
   "execution_count": null,
   "metadata": {},
   "outputs": [],
   "source": [
    "import numpy as np\n",
    "import pandas as pd\n",
    "import matplotlib.pylab as plt\n",
    "%matplotlib inline\n",
    "\n",
    "#Set filepaths for baseball data and atmospheric data\n",
    "team_path = \"C:\\Users\\Nathan\\Documents\\GitHub\\SabermetricsProject\\Data\\Teams.csv\"\n",
    "\n",
    "#epa_daily_path = \"C:\\Users\\Nathan\\Documents\\GitHub\\SabermetricsProject\\Data\\epa_hap_daily_summary.csv\"\n",
    "epa_yearly_path = \"C:\\Users\\Nathan\\Documents\\GitHub\\SabermetricsProject\\Data\\epa_air_quality_annual_summary.csv\"\n",
    "\n",
    "\n",
    "team_DF = pd.read_csv(team_path)\n",
    "#epa_daily_DF = pd.read_csv(epa_daily_path)\n",
    "epa_yearly_DF = pd.read_csv(epa_yearly_path)\n",
    "\n",
    "#Edit dates to contain only year\n",
    "#epa_yearly_DF[\"date_of_last_change\"] = epa_yearly_DF[\"date_of_last_change\"].str[:4]\n",
    "#epa_yearly_DF.rename(columns={\"date_of_last_change\":\"year\"},inplace=True)\n",
    "\n",
    "team_DF.rename(columns={\"yearID\":\"year\"},inplace=True)\n",
    "\n",
    "print(\"Original dataframe size = %s\" %epa_yearly_DF.size)\n",
    "#print(\"Memory usage for EPA yearly summary = %s\" % epa_yearly_DF.memory_usage)"
   ]
  },
  {
   "cell_type": "markdown",
   "metadata": {},
   "source": [
    "Now that the data has been imported, the next  step is to clean the data by removing unneeded information and then  try to determine a shared key/column so that the dataframes can be merged. The epa readings contained in the dataframe were collected at a variety of cities within the US, many without any professional baseball team. There also may be cities that have atmospheric readings but no MLB team. Therefore I will identify the cities contained within both datasets and use these for my analysis"
   ]
  },
  {
   "cell_type": "code",
   "execution_count": 24,
   "metadata": {},
   "outputs": [
    {
     "name": "stdout",
     "output_type": "stream",
     "text": [
      "Reduced dataframe size = 13353175\n"
     ]
    },
    {
     "ename": "KeyboardInterrupt",
     "evalue": "",
     "output_type": "error",
     "traceback": [
      "\u001b[1;31m\u001b[0m",
      "\u001b[1;31mKeyboardInterrupt\u001b[0mTraceback (most recent call last)",
      "\u001b[1;32m<ipython-input-24-a225454ffa31>\u001b[0m in \u001b[0;36m<module>\u001b[1;34m()\u001b[0m\n\u001b[0;32m     33\u001b[0m \u001b[0mmerged_DF\u001b[0m \u001b[1;33m=\u001b[0m \u001b[0mpd\u001b[0m\u001b[1;33m.\u001b[0m\u001b[0mmerge\u001b[0m\u001b[1;33m(\u001b[0m\u001b[0mteam_DF\u001b[0m\u001b[1;33m,\u001b[0m\u001b[0mepa_yearly_DF\u001b[0m\u001b[1;33m,\u001b[0m\u001b[0mon\u001b[0m\u001b[1;33m=\u001b[0m\u001b[1;34m\"year\"\u001b[0m\u001b[1;33m)\u001b[0m\u001b[1;33m\u001b[0m\u001b[0m\n\u001b[0;32m     34\u001b[0m \u001b[1;33m\u001b[0m\u001b[0m\n\u001b[1;32m---> 35\u001b[1;33m \u001b[1;32mprint\u001b[0m\u001b[1;33m(\u001b[0m\u001b[0mmerged_DF\u001b[0m\u001b[1;33m.\u001b[0m\u001b[0mcorr\u001b[0m\u001b[1;33m(\u001b[0m\u001b[1;33m)\u001b[0m\u001b[1;33m)\u001b[0m\u001b[1;33m\u001b[0m\u001b[0m\n\u001b[0m",
      "\u001b[1;32mC:\\Users\\Nathan\\Anaconda2\\lib\\site-packages\\pandas\\core\\frame.pyc\u001b[0m in \u001b[0;36mcorr\u001b[1;34m(self, method, min_periods)\u001b[0m\n\u001b[0;32m   4840\u001b[0m \u001b[1;33m\u001b[0m\u001b[0m\n\u001b[0;32m   4841\u001b[0m         \u001b[1;32mif\u001b[0m \u001b[0mmethod\u001b[0m \u001b[1;33m==\u001b[0m \u001b[1;34m'pearson'\u001b[0m\u001b[1;33m:\u001b[0m\u001b[1;33m\u001b[0m\u001b[0m\n\u001b[1;32m-> 4842\u001b[1;33m             \u001b[0mcorrel\u001b[0m \u001b[1;33m=\u001b[0m \u001b[0mlibalgos\u001b[0m\u001b[1;33m.\u001b[0m\u001b[0mnancorr\u001b[0m\u001b[1;33m(\u001b[0m\u001b[0m_ensure_float64\u001b[0m\u001b[1;33m(\u001b[0m\u001b[0mmat\u001b[0m\u001b[1;33m)\u001b[0m\u001b[1;33m,\u001b[0m \u001b[0mminp\u001b[0m\u001b[1;33m=\u001b[0m\u001b[0mmin_periods\u001b[0m\u001b[1;33m)\u001b[0m\u001b[1;33m\u001b[0m\u001b[0m\n\u001b[0m\u001b[0;32m   4843\u001b[0m         \u001b[1;32melif\u001b[0m \u001b[0mmethod\u001b[0m \u001b[1;33m==\u001b[0m \u001b[1;34m'spearman'\u001b[0m\u001b[1;33m:\u001b[0m\u001b[1;33m\u001b[0m\u001b[0m\n\u001b[0;32m   4844\u001b[0m             correl = libalgos.nancorr_spearman(_ensure_float64(mat),\n",
      "\u001b[1;31mKeyboardInterrupt\u001b[0m: "
     ]
    }
   ],
   "source": [
    "#Create a list of distinct cities where readings were collected\n",
    "distinct_cities = epa_yearly_DF.city_name.unique()\n",
    "\n",
    "MLB_cities = [\"Baltimore\",\"Boston\",\"Chicago\",\"Cleveland\",\"Detroit\",\"Houston\",\"Kansas City\",\"Anaheim\",\n",
    "             \"Minneapolis\",\"New York\",\"Oakland\",\"Seattle\",\"St. Petersburg\",\"Arlington\",\"Phoenix\",\n",
    "             \"Atlanta\",\"Cincinnati\",\"Denver\",\"Los Angeles\",\"Miami\",\"Milwaukee\",\"Philadelphia\",\n",
    "             \"Pittsburgh\",\"San Diego\",\"San Francisco\",\"St. Louis\",\"Washington\",\"St. Paul\",\"Newark\",]\n",
    "\n",
    "shared_cities = [x for x in distinct_cities if x in MLB_cities]\n",
    "\n",
    "epa_yearly_DF = epa_yearly_DF[epa_yearly_DF['city_name'].isin(shared_cities)]\n",
    "\n",
    "print(\"Reduced dataframe size = %s\" %epa_yearly_DF.size)\n",
    "\n",
    "#Create a dictionary mapping teams to cities\n",
    "team_cities = team_DF.name.unique()\n",
    "team_to_city = {}\n",
    "for words in team_cities:\n",
    "    wordsList = words.split(\" \")\n",
    "    if wordsList[0]==\"Kansas\" or wordsList[0]==\"San\" or wordsList[0]==\"Los\" or wordsList[0]==\"New\" or wordsList[0]==\"St.\":\n",
    "        team_to_city[words] = wordsList[0]+\" \"+wordsList[1]\n",
    "    else:\n",
    "        team_to_city[words] = wordsList[0]\n",
    "\n",
    "#Add new city_name column to team dataframe to act as key\n",
    "team_DF[\"city_name\"] = \"default\"\n",
    "\n",
    "\n",
    "for index,row in team_DF.iterrows():\n",
    "    if row[\"name\"] in team_to_city:\n",
    "        team_DF.set_value(index,\"city_name\",team_to_city[row[\"name\"]])\n",
    "\n",
    "merged_DF = pd.merge(team_DF,epa_yearly_DF,on=\"year\")\n",
    "\n",
    "#print(merged_DF.corr())"
   ]
  },
  {
   "cell_type": "code",
   "execution_count": null,
   "metadata": {
    "collapsed": true
   },
   "outputs": [],
   "source": []
  }
 ],
 "metadata": {
  "kernelspec": {
   "display_name": "Python 2",
   "language": "python",
   "name": "python2"
  },
  "language_info": {
   "codemirror_mode": {
    "name": "ipython",
    "version": 2
   },
   "file_extension": ".py",
   "mimetype": "text/x-python",
   "name": "python",
   "nbconvert_exporter": "python",
   "pygments_lexer": "ipython2",
   "version": "2.7.14"
  }
 },
 "nbformat": 4,
 "nbformat_minor": 2
}
