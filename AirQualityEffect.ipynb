{
 "cells": [
  {
   "cell_type": "markdown",
   "metadata": {},
   "source": [
    "# Sabermetrics: The Air Quality Factor\n",
    "\n",
    "In this Jupyter notebook I will explore the relationship between baseball performance and atmospheric air quality. The first step in this project is to import the multiple data sets with the goal of building a shared data frame so that the data can be easily compared using Pandas.\n"
   ]
  },
  {
   "cell_type": "code",
   "execution_count": 42,
   "metadata": {},
   "outputs": [
    {
     "name": "stdout",
     "output_type": "stream",
     "text": [
      "Original dataframe size = 112129050\n"
     ]
    }
   ],
   "source": [
    "import numpy as np\n",
    "import pandas as pd\n",
    "import matplotlib.pylab as plt\n",
    "%matplotlib inline\n",
    "\n",
    "#Set filepaths for baseball data and atmospheric data\n",
    "team_path = \"C:\\Users\\Nathan\\Documents\\GitHub\\SabermetricsProject\\Data\\Teams.csv\"\n",
    "\n",
    "#epa_daily_path = \"C:\\Users\\Nathan\\Documents\\GitHub\\SabermetricsProject\\Data\\epa_hap_daily_summary.csv\"\n",
    "epa_yearly_path = \"C:\\Users\\Nathan\\Documents\\GitHub\\SabermetricsProject\\Data\\epa_air_quality_annual_summary.csv\"\n",
    "\n",
    "\n",
    "team_DF = pd.read_csv(team_path)\n",
    "#epa_daily_DF = pd.read_csv(epa_daily_path)\n",
    "epa_yearly_DF = pd.read_csv(epa_yearly_path)\n",
    "\n",
    "print(\"Original dataframe size = %s\" %epa_yearly_DF.size)\n",
    "#print(\"Memory usage for EPA yearly summary = %s\" % epa_yearly_DF.memory_usage)"
   ]
  },
  {
   "cell_type": "markdown",
   "metadata": {},
   "source": [
    "Now that the data has been imported, the next  step is to clean the data by removing unneeded information and then  try to determine a shared key/column so that the dataframes can be merged. The epa readings contained in the dataframe were collected at a variety of cities within the US, many without any professional baseball team. There also may be cities that have atmospheric readings but no MLB team. Therefore I will identify the cities contained within both datasets and use these for my analysis"
   ]
  },
  {
   "cell_type": "code",
   "execution_count": 71,
   "metadata": {},
   "outputs": [
    {
     "name": "stdout",
     "output_type": "stream",
     "text": [
      "Reduced dataframe size = 12850640\n",
      "{'Toronto': 'Toronto Blue Jays', 'Rochester': 'Rochester Broncos', 'Chicago': 'Chicago Whales', 'Philadelphia': 'Philadelphia Blue Jays', 'Richmond': 'Richmond Virginians', 'Providence': 'Providence Grays', 'Louisville': 'Louisville Colonels', 'Toledo': 'Toledo Maumees', 'San Francisco': 'San Francisco Giants', 'Texas': 'Texas Rangers', 'Columbus': 'Columbus Solons', 'Indianapolis': 'Indianapolis Hoosiers', 'Elizabeth': 'Elizabeth Resolutes', 'Seattle': 'Seattle Mariners', 'Pittsburgh': 'Pittsburgh Rebels', 'San Diego': 'San Diego Padres', 'Oakland': 'Oakland Athletics', 'California': 'California Angels', 'Brooklyn': 'Brooklyn Robins', 'Altoona': 'Altoona Mountain City', 'Hartford': 'Hartford Dark Blues', 'Montreal': 'Montreal Expos', 'Los Angeles': 'Los Angeles Angels of Anaheim', 'Keokuk': 'Keokuk Westerns', 'Atlanta': 'Atlanta Braves', 'Tampa': 'Tampa Bay Rays', 'Fort': 'Fort Wayne Kekiongas', 'Rockford': 'Rockford Forest Citys', 'Minnesota': 'Minnesota Twins', 'Chicago/Pittsburgh': 'Chicago/Pittsburgh (Union League)', 'Miami': 'Miami Marlins', 'Florida': 'Florida Marlins', 'Arizona': 'Arizona Diamondbacks', 'Wilmington': 'Wilmington Quicksteps', 'Kansas City': 'Kansas City Royals', 'Detroit': 'Detroit Tigers', 'Middletown': 'Middletown Mansfields', 'Anaheim': 'Anaheim Angels', 'Houston': 'Houston Astros', 'Buffalo': 'Buffalo Blues', 'Baltimore': 'Baltimore Terrapins', 'St. Louis': 'St. Louis Terriers', 'Newark': 'Newark Pepper', 'New Haven': 'New Haven Elm Citys', 'Cincinnati': 'Cincinnati Redlegs', 'Colorado': 'Colorado Rockies', 'Pittsburg': 'Pittsburg Alleghenys', 'Boston': 'Boston Bees', 'Washington': 'Washington Senators', 'Worcester': 'Worcester Ruby Legs', 'Troy': 'Troy Trojans', 'New York': 'New York Mets', 'Cleveland': 'Cleveland Indians', 'Milwaukee': 'Milwaukee Braves', 'Syracuse': 'Syracuse Stars', 'St. Paul': 'St. Paul White Caps'}\n"
     ]
    }
   ],
   "source": [
    "#Create a list of distinct cities where readings were collected\n",
    "distinct_cities = epa_yearly_DF.city_name.unique()\n",
    "\n",
    "MLB_cities = [\"Baltimore\",\"Boston\",\"Chicago\",\"Cleveland\",\"Detroit\",\"Houston\",\"Kansas City\",\"Anaheim\",\n",
    "             \"Minneapolis\",\"New York\",\"Oakland\",\"Seattle\",\"St. Petersburg\",\"Arlington\",\"Phoenix\",\n",
    "             \"Atlanta\",\"Cincinnati\",\"Denver\",\"Los Angeles\",\"Miami\",\"Milwaukee\",\"Philadelphia\",\n",
    "             \"Pittsburgh\",\"San Diego\",\"San Francisco\",\"St. Louis\",\"Washington\",\"St. Paul\",\"Newark\",]\n",
    "\n",
    "shared_cities = [x for x in distinct_cities if x in MLB_cities]\n",
    "\n",
    "epa_yearly_DF = epa_yearly_DF[epa_yearly_DF['city_name'].isin(shared_cities)]\n",
    "\n",
    "print(\"Reduced dataframe size = %s\" %epa_yearly_DF.size)\n",
    "\n",
    "team_cities = team_DF.name.unique()\n",
    "city_to_team = {}\n",
    "for word in team_cities:\n",
    "    wordsList = word.split(\" \")\n",
    "    if wordsList[0]==\"Kansas\" or wordsList[0]==\"San\" or wordsList[0]==\"Los\" or wordsList[0]==\"New\" or wordsList[0]==\"St.\":\n",
    "        city_to_team[wordsList[0]+\" \"+wordsList[1]] = word\n",
    "    else:\n",
    "        city_to_team[wordsList[0]] = word\n",
    "\n",
    "\n",
    "   \n",
    "    \n"
   ]
  },
  {
   "cell_type": "code",
   "execution_count": null,
   "metadata": {
    "collapsed": true
   },
   "outputs": [],
   "source": []
  }
 ],
 "metadata": {
  "kernelspec": {
   "display_name": "Python 2",
   "language": "python",
   "name": "python2"
  },
  "language_info": {
   "codemirror_mode": {
    "name": "ipython",
    "version": 2
   },
   "file_extension": ".py",
   "mimetype": "text/x-python",
   "name": "python",
   "nbconvert_exporter": "python",
   "pygments_lexer": "ipython2",
   "version": "2.7.14"
  }
 },
 "nbformat": 4,
 "nbformat_minor": 2
}
